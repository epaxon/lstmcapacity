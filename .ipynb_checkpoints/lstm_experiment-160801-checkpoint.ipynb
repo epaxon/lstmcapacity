{
 "cells": [
  {
   "cell_type": "code",
   "execution_count": 18,
   "metadata": {
    "collapsed": false
   },
   "outputs": [
    {
     "data": {
      "text/plain": [
       "<module 'lstm_network' from 'lstm_network.py'>"
      ]
     },
     "execution_count": 18,
     "metadata": {},
     "output_type": "execute_result"
    }
   ],
   "source": [
    "import lstm_network\n",
    "import tensorflow as tf\n",
    "from pylab import *\n",
    "\n",
    "reload(lstm_network)"
   ]
  },
  {
   "cell_type": "code",
   "execution_count": 19,
   "metadata": {
    "collapsed": false
   },
   "outputs": [],
   "source": [
    "graph =  tf.Graph()\n",
    "\n",
    "hparams = {}\n",
    "hparams['bp_cutoff'] = 5\n",
    "hparams['batch_size'] = 10\n",
    "hparams['n_inputs'] = 26\n",
    "hparams['n_units'] = 100\n",
    "hparams['forget_bias'] = 1.0\n",
    "hparams['grad_clip_norm'] = 1\n",
    "hparams['n_train_steps'] = int(1e4)\n",
    "\n",
    "#bp_cutoff = 5\n",
    "\n",
    "with graph.as_default():\n",
    "    xs = [tf.placeholder(tf.float32, shape=[hparams['batch_size'], hparams['n_inputs']]) for _ in arange(hparams['bp_cutoff']+1)]\n",
    "    \n",
    "    # predicting next letter, output is next input\n",
    "    x_inputs = xs[:-1]\n",
    "    x_labels = xs[1:]\n",
    "    \n",
    "    # set up network/graph\n",
    "    lstm_net = lstm_network.LSTMnet(hparams)\n",
    "    \n",
    "    errors = list()\n",
    "    \n",
    "    init_state = lstm_net.get_new_state(hparams['batch_size'])\n",
    "    \n",
    "    train_state = init_state\n",
    "    \n",
    "    for (x_input, x_label) in zip(x_inputs, x_labels):\n",
    "        train_state, y = lstm_net.step(train_state, x_input)\n",
    "        \n",
    "        # @todo: check to see if this step is actually predictable\n",
    "        cross_entropy = tf.nn.softmax_cross_entropy_with_logits(y, x_label)\n",
    "        \n",
    "        errors.append(cross_entropy)\n",
    "        \n",
    "        \n",
    "    train_err = tf.reduce_mean(tf.concat(0, errors))\n",
    "        \n",
    "    \n",
    "    store_train_state = lstm_net.store_state_op(train_state, init_state)\n",
    "    reset_state = lstm_net.reset_state_op(init_state)\n",
    "    \n",
    "    # set up training optimizer\n",
    "    t = tf.Variable(0, name='t', trainable=False)\n",
    "    \n",
    "    eta = tf.train.exponential_decay(0.008, t, 2000, 0.5, staircase=True)\n",
    "    optimizer = tf.train.AdamOptimizer(learning_rate=eta)\n",
    "    \n",
    "    \n",
    "    grads, params = zip(*optimizer.compute_gradients(train_err))\n",
    "    grads, _ = tf.clip_by_global_norm(grads, hparams['grad_clip_norm'])\n",
    "    apply_grads = optimizer.apply_gradients(zip(grads, params), global_step=t)\n",
    "    \n",
    "    "
   ]
  },
  {
   "cell_type": "code",
   "execution_count": null,
   "metadata": {
    "collapsed": true
   },
   "outputs": [],
   "source": [
    "\n",
    "with tf.Session(graph=graph) as session:\n",
    "\n",
    "    tf.initialize_all_variables().run()\n",
    "    \n",
    "    for step in range(hparams['n_train_steps']):\n",
    "        \n",
    "        "
   ]
  }
 ],
 "metadata": {
  "kernelspec": {
   "display_name": "Python 2",
   "language": "python",
   "name": "python2"
  },
  "language_info": {
   "codemirror_mode": {
    "name": "ipython",
    "version": 2
   },
   "file_extension": ".py",
   "mimetype": "text/x-python",
   "name": "python",
   "nbconvert_exporter": "python",
   "pygments_lexer": "ipython2",
   "version": "2.7.11"
  }
 },
 "nbformat": 4,
 "nbformat_minor": 0
}
