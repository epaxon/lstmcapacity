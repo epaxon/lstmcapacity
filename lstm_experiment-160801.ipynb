{
 "cells": [
  {
   "cell_type": "markdown",
   "metadata": {},
   "source": [
    "## LSTM capacity experiments"
   ]
  },
  {
   "cell_type": "code",
   "execution_count": 9,
   "metadata": {
    "collapsed": false
   },
   "outputs": [
    {
     "data": {
      "text/plain": [
       "<module 'input_generator' from 'input_generator.pyc'>"
      ]
     },
     "execution_count": 9,
     "metadata": {},
     "output_type": "execute_result"
    }
   ],
   "source": [
    "import lstm_network\n",
    "import xml_utils\n",
    "import input_generator\n",
    "import text_processing\n",
    "import tensorflow as tf\n",
    "from pylab import *\n",
    "\n",
    "from __future__ import division\n",
    "\n",
    "reload(lstm_network)\n",
    "reload(xml_utils)\n",
    "reload(input_generator)"
   ]
  },
  {
   "cell_type": "code",
   "execution_count": 2,
   "metadata": {
    "collapsed": false
   },
   "outputs": [],
   "source": [
    "graph =  tf.Graph()\n",
    "\n",
    "hparams = {}\n",
    "hparams['bp_cutoff'] = 5\n",
    "hparams['batch_size'] = 10\n",
    "hparams['n_inputs'] = 26\n",
    "hparams['n_units'] = 100\n",
    "hparams['forget_bias'] = 1.0\n",
    "hparams['grad_clip_norm'] = 1\n",
    "hparams['n_train_steps'] = int(1e4)\n",
    "hparams['train_state_reset_rate'] = 100\n",
    "\n",
    "\n",
    "#bp_cutoff = 5\n",
    "\n",
    "with graph.as_default():\n",
    "    xs = [tf.placeholder(tf.float32, shape=[hparams['batch_size'], hparams['n_inputs']]) for _ in arange(hparams['bp_cutoff']+1)]\n",
    "    \n",
    "    # predicting next letter, output is next input\n",
    "    x_inputs = xs[:-1]\n",
    "    x_labels = xs[1:]\n",
    "    \n",
    "    # set up network/graph\n",
    "    lstm_net = lstm_network.LSTMnet(hparams)\n",
    "    \n",
    "    errors = list()\n",
    "    \n",
    "    init_state = lstm_net.get_new_state(hparams['batch_size'])\n",
    "    \n",
    "    train_state = init_state\n",
    "    \n",
    "    for (x_input, x_label) in zip(x_inputs, x_labels):\n",
    "        train_state, y = lstm_net.step(train_state, x_input)\n",
    "        \n",
    "        # @todo: check to see if this step is actually predictable\n",
    "        cross_entropy = tf.nn.softmax_cross_entropy_with_logits(y, x_label)\n",
    "        \n",
    "        errors.append(cross_entropy)\n",
    "        \n",
    "        \n",
    "    train_err = tf.reduce_mean(tf.concat(0, errors))\n",
    "        \n",
    "    \n",
    "    store_train_state = lstm_net.store_state_op(train_state, init_state)\n",
    "    reset_state = lstm_net.reset_state_op(init_state)\n",
    "    \n",
    "    # set up training optimizer\n",
    "    t = tf.Variable(0, name='t', trainable=False)\n",
    "    \n",
    "    eta = tf.train.exponential_decay(0.008, t, 2000, 0.5, staircase=True)\n",
    "    optimizer = tf.train.AdamOptimizer(learning_rate=eta)\n",
    "    \n",
    "    \n",
    "    grads, params = zip(*optimizer.compute_gradients(train_err))\n",
    "    grads, _ = tf.clip_by_global_norm(grads, hparams['grad_clip_norm'])\n",
    "    apply_grads = optimizer.apply_gradients(zip(grads, params), global_step=t)\n",
    "    \n",
    "    "
   ]
  },
  {
   "cell_type": "code",
   "execution_count": 3,
   "metadata": {
    "collapsed": false
   },
   "outputs": [],
   "source": [
    "num_chars_per_tag = 10\n",
    "tag_depth = 4\n",
    "num_tags = 100\n",
    "\n",
    "text, xml_alphabet = xml_utils.generate_xml_sequence(num_chars_per_tag, tag_depth, num_tags)\n",
    "\n",
    "#xml_alphabet, indices = text_processing.string_to_alphabet_indices(text)\n",
    "\n",
    "input_gen = input_generator.Input_Generator(text, xml_alphabet, hparams['batch_size'], hparams['bp_cutoff'])"
   ]
  },
  {
   "cell_type": "code",
   "execution_count": 4,
   "metadata": {
    "collapsed": false
   },
   "outputs": [
    {
     "data": {
      "text/plain": [
       "array([20, 13, 11, ..., 17, 16,  3])"
      ]
     },
     "execution_count": 4,
     "metadata": {},
     "output_type": "execute_result"
    }
   ],
   "source": [
    "text"
   ]
  },
  {
   "cell_type": "code",
   "execution_count": null,
   "metadata": {
    "collapsed": false
   },
   "outputs": [],
   "source": [
    "cum_error = 0\n",
    "\n",
    "with tf.Session(graph=graph) as session:\n",
    "\n",
    "    tf.initialize_all_variables().run()\n",
    "    \n",
    "    for step in range(hparams['n_train_steps']):\n",
    "        \n",
    "        reset_rate = hparams['bp_cutoff']/hparams['train_state_reset_rate']\n",
    "        if np.random.poisson(reset_rate) > 0:\n",
    "            print 'reset'\n",
    "            session.run([reset_state])\n",
    "        \n",
    "        \n",
    "        window = input_gen.next_window()\n",
    "        \n",
    "        feed_dict = dict()\n",
    "        \n",
    "        for i in range(hparams['bp_cutoff']+1):\n",
    "            feed_dict[xs[i]] = window[i]\n",
    "            \n",
    "        to_compute = [train_err, eta, apply_grads, store_train_state]\n",
    "        \n",
    "        error_val, eta_val = session.run(to_compute, feed_dict=feed_dict)[:2]\n",
    "        \n",
    "        cum_error += error_val\n",
    "        \n",
    "        print cum_error\n",
    "        \n",
    "        \n",
    "        \n",
    "        "
   ]
  },
  {
   "cell_type": "code",
   "execution_count": 31,
   "metadata": {
    "collapsed": false
   },
   "outputs": [
    {
     "data": {
      "text/plain": [
       "[<matplotlib.lines.Line2D at 0x7fb014dac710>]"
      ]
     },
     "execution_count": 31,
     "metadata": {},
     "output_type": "execute_result"
    },
    {
     "data": {
      "image/png": "[encoded data removed]",
      "text/plain": [
       "<matplotlib.figure.Figure at 0x7fb014e72d50>"
      ]
     },
     "metadata": {},
     "output_type": "display_data"
    }
   ],
   "source": [
    "%matplotlib inline\n",
    "plot(np.random.poisson(1.0/100, [1000]))"
   ]
  },
  {
   "cell_type": "code",
   "execution_count": 43,
   "metadata": {
    "collapsed": false
   },
   "outputs": [],
   "source": []
  },
  {
   "cell_type": "code",
   "execution_count": 44,
   "metadata": {
    "collapsed": false
   },
   "outputs": [
    {
     "data": {
      "text/plain": [
       "2"
      ]
     },
     "execution_count": 44,
     "metadata": {},
     "output_type": "execute_result"
    }
   ],
   "source": [
    "a.size"
   ]
  },
  {
   "cell_type": "code",
   "execution_count": 17,
   "metadata": {
    "collapsed": false
   },
   "outputs": [
    {
     "name": "stdout",
     "output_type": "stream",
     "text": [
      "['e' 'd' 'v' 'h' 'r' 'b' 'x' 'b' 'v' 'g' 'c' 'q' 't' 'n' 'g' 'i' 'q' 'g'\n",
      " 'v' 'n' 'k' 'l' 't' 'w' 'l' 'd' 'u' 'z' 'o' 'f' 'r' 's' 'y' 'v' 'k' 'c'\n",
      " 'u' 'v' 'h' 'g' 'i' 'g' 'd' 'k' 'u' 'i' 'r' 'i' 'p' 'v' 'i' 'i' 'k' 'z'\n",
      " 'e' 'h' 'z' 'f' 'b' 'a' 'f' 'f' 'w' 'j' 's' 'g' 'm' 's' 'p' 'u' 'z' 'a'\n",
      " 'n' 'v' 'x' 'i' 'f' 'm' 'v' 'q' 's' 'r' 'w' 'r' 'c' 'c' 'e' 'l' 'i' 'a'\n",
      " 'e' 'e' 's' 'j' 'v' 'i' 't' 'o' 'b' 'o']\n"
     ]
    }
   ],
   "source": [
    "alphabet = 'abcdefghijklmnopqrstuvwxyz'\n",
    "aa = []\n",
    "for l in alphabet:\n",
    "    aa.append(l)\n",
    "aa = np.array(aa)\n",
    "idx = np.random.randint(len(alphabet), size=100)\n",
    "print aa[idx]"
   ]
  },
  {
   "cell_type": "code",
   "execution_count": 21,
   "metadata": {
    "collapsed": false
   },
   "outputs": [
    {
     "name": "stdout",
     "output_type": "stream",
     "text": [
      "['a' 'b' 'c' 'd' 'e' 'f' 'g' 'h' 'i' 'j' 'k' 'l' 'm' 'n' 'o' 'p' 'q' 'r'\n",
      " 's' 't' 'u' 'v' 'w' 'x' 'y' 'z']\n",
      "['a', 'b', 'c', 'd', 'e', 'f', 'g', 'h', 'i', 'j', 'k', 'l', 'm', 'n', 'o', 'p', 'q', 'r', 's', 't', 'u', 'v', 'w', 'x', 'y', 'z']\n"
     ]
    }
   ],
   "source": [
    "aa2 = np.array(list(alphabet))\n",
    "print aa2\n",
    "print str(list(aa2))"
   ]
  },
  {
   "cell_type": "code",
   "execution_count": 28,
   "metadata": {
    "collapsed": false
   },
   "outputs": [
    {
     "name": "stdout",
     "output_type": "stream",
     "text": [
      "[True, True, True, True, True, False, False, False, False, False, True, True, True, True, False, False, False, False, True, True, True, True, False, False, False, False, True, True, True, True, True, False, False, False, False, False, True, True, True, True, False, False, False, False, True, True, True, True, True, False, False, False, False, False, True, True, True, True, True, False, False, False, False, False, True, True, True, False, False, False, True, True, True, True, True, False, False, False, False, False, True, True, True, True, False, False, False, False, True, True, True, True, False, False, False, False, True, True, True, False, False, False, True, True, True, True, True, False, False, False, False, False, True, True, True, True, True, False, False, False, False, False, True, True, True, False, False, False, True, True, True, True, False, False, False, False, True, True, True, False, False, False, True, True, True, True, False, False, False, False, True, True, True, True, False, False, False, False, True, True, True, True, False, False, False, False, True, True, True, False, False, False, True, True, True, False, False, False, True, True, True, False, False, False, True, True, True, True, False, False, False, False, True, True, True, True, True, False, False, False, False, False, True, True, True, True, False, False, False, False, True, True, True, True, False, False, False, False, True, True, True, True, False, False, False, False, True, True, True, True, True, False, False, False, False, False, True, True, True, True, False, False, False, False, True, True, True, True, True, False, False, False, False, False, True, True, True, False, False, False, True, True, True, True, True, False, False, False, False, False, True, True, True, False, False, False, True, True, True, True, False, False, False, False, True, True, True, False, False, False, True, True, True, True, False, False, False, False, True, True, True, True, False, False, False, False, True, True, True, True, True, False, False, False, False, False, True, True, True, False, False, False]\n"
     ]
    }
   ],
   "source": [
    "reload(xml_utils)\n",
    "xml_seq = xml_utils.generate_rand_xml_sequence([8, 9, 10], [3, 4, 5], 40)"
   ]
  },
  {
   "cell_type": "code",
   "execution_count": 27,
   "metadata": {
    "collapsed": false
   },
   "outputs": [
    {
     "name": "stdout",
     "output_type": "stream",
     "text": [
      "<topzwrtwqw><oqfnxjipnz><owsotxumda><oslctbakpl>-oslctbakpl>-owsotxumda>-oqfnxjipnz>-topzwrtwqw><xzmkbqxpiu><thenivuoog><ioqobopgjo><gpojbkuggc>-gpojbkuggc>-ioqobopgjo>-thenivuoog>-xzmkbqxpiu><vaczvssewy><bbrghkixey><xqwuoacyxu><pcskoejwah>-pcskoejwah>-xqwuoacyxu>-bbrghkixey>-vaczvssewy><njdneumour><famqnwyrjy><rjmalywhow><pnwgmfyfnx>-pnwgmfyfnx>-rjmalywhow>-famqnwyrjy>-njdneumour><yycpffwuyx><oreenualoq><tyozerkgam><lhjfiecumy>-lhjfiecumy>-tyozerkgam>-oreenualoq>-yycpffwuyx><fpxhdbhprz><ysyleejiyp><kbzvinddwl><dzqwgmvxya>-dzqwgmvxya>-kbzvinddwl>-ysyleejiyp>-fpxhdbhprz><ufsfyjiyus><wpnsjsmetf><xibailvowm><mppunhxwdl>-mppunhxwdl>-xibailvowm>-wpnsjsmetf>-ufsfyjiyus><fhfiqxkkag><atmcjenewp><dfzqurgoxn><mpiofksqxr>-mpiofksqxr>-dfzqurgoxn>-atmcjenewp>-fhfiqxkkag><hkqpsvcbgo><bzyfmyxxvc><xsloudxjbg><glfsipjrgy>-glfsipjrgy>-xsloudxjbg>-bzyfmyxxvc>-hkqpsvcbgo><lkgqqahqug><hadiiodvyj><lswegrnadu><eafdnxzdfy>-eafdnxzdfy>-lswegrnadu>-hadiiodvyj>-lkgqqahqug><mrwmbiifdb><queojlyzca><asznllixop><htlbkodyts>-htlbkodyts>-asznllixop>-queojlyzca>-mrwmbiifdb><zlhsjumzpg><xllqhbpysn><uadvodmfvj><mubqvxmbeb>-mubqvxmbeb>-uadvodmfvj>-xllqhbpysn>-zlhsjumzpg><nwzaotfqwc><nwjfgikywu><bibleyssbh><dsktvyckvy>-dsktvyckvy>-bibleyssbh>-nwjfgikywu>-nwzaotfqwc><kjhdkyoqeq><laqmfrmksz><wiavoqrqac><oqsbclgsvb>-oqsbclgsvb>-wiavoqrqac>-laqmfrmksz>-kjhdkyoqeq><hoeivlivdu><jtfqubwnuq><zlwvxipnrh><sznxeibaao>-sznxeibaao>-zlwvxipnrh>-jtfqubwnuq>-hoeivlivdu><ybugtofhue><olvbiuezaa><exlvtiswem><gbwqfvhwyt>-gbwqfvhwyt>-exlvtiswem>-olvbiuezaa>-ybugtofhue><xwgnmspfco><rwlluzykpu><kgpsejdskz><jpuicpknpt>-jpuicpknpt>-kgpsejdskz>-rwlluzykpu>-xwgnmspfco><joofcfrdua><ygwddjzntz><cfkjxgymba><ymvjdbinna>-ymvjdbinna>-cfkjxgymba>-ygwddjzntz>-joofcfrdua><hajpegohtl><sjdtkwgzqd><hdmkehzvhr><olirocmvae>-olirocmvae>-hdmkehzvhr>-sjdtkwgzqd>-hajpegohtl><gtjeqjjafe><ekmteqfdwp><qyocspbyer><sgazmjjour>-sgazmjjour>-qyocspbyer>-ekmteqfdwp>-gtjeqjjafe><fackkpjpcu><vdihhjjamj><cqsbswvguz><pfvpcmixby>-pfvpcmixby>-cqsbswvguz>-vdihhjjamj>-fackkpjpcu><jpiynqqqln><mlmpoqrdop><fhnlqrackc><qgikozujwt>-qgikozujwt>-fhnlqrackc>-mlmpoqrdop>-jpiynqqqln><hlfkuhydnx><aajhgwabss><iuxpatcsjr><xseapfvucw>-xseapfvucw>-iuxpatcsjr>-aajhgwabss>-hlfkuhydnx><wdpsrvlnes><fjabduhmfx><datpaluzhq><demferhxxl>-demferhxxl>-datpaluzhq>-fjabduhmfx>-wdpsrvlnes><tgewtuftol><qriemjvmgb><shneiuquvx><tcxmmdtsir>-tcxmmdtsir>-shneiuquvx>-qriemjvmgb>-tgewtuftol>\n"
     ]
    }
   ],
   "source": [
    "print \"\".join(xml_seq)"
   ]
  },
  {
   "cell_type": "code",
   "execution_count": null,
   "metadata": {
    "collapsed": true
   },
   "outputs": [],
   "source": []
  }
 ],
 "metadata": {
  "kernelspec": {
   "display_name": "Python 2",
   "language": "python",
   "name": "python2"
  },
  "language_info": {
   "codemirror_mode": {
    "name": "ipython",
    "version": 2
   },
   "file_extension": ".py",
   "mimetype": "text/x-python",
   "name": "python",
   "nbconvert_exporter": "python",
   "pygments_lexer": "ipython2",
   "version": "2.7.11"
  }
 },
 "nbformat": 4,
 "nbformat_minor": 0
}
